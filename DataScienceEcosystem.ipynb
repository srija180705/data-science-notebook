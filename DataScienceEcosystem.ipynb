{
  "metadata": {
    "kernelspec": {
      "name": "xpython",
      "display_name": "Python 3.13 (XPython)",
      "language": "python"
    },
    "language_info": {
      "file_extension": ".py",
      "mimetype": "text/x-python",
      "name": "python",
      "version": "3.13.1"
    }
  },
  "nbformat_minor": 5,
  "nbformat": 4,
  "cells": [
    {
      "id": "52301425-18dd-4dab-8cb9-4d7f7f17ce98",
      "cell_type": "markdown",
      "source": "# Data Science Tools and Ecosystem",
      "metadata": {}
    },
    {
      "id": "d8cd2948-188e-4fa3-855c-69e57b611d31",
      "cell_type": "markdown",
      "source": "In this notebook, Data Science Tools and Ecosystem are summarized.",
      "metadata": {}
    },
    {
      "id": "0d092c03-fb54-483b-9099-7533b9b24334",
      "cell_type": "markdown",
      "source": "Some of the popular languages that Data Scientists use are:\n\n1. Python  \n2. R  \n3. SQL  \n4. Julia  \n5. Scala\n",
      "metadata": {}
    },
    {
      "id": "10666728-66e0-46e5-965d-421b3aa0b615",
      "cell_type": "markdown",
      "source": "Some of the commonly used libraries used by Data Scientists include:\n\n1. Pandas  \n2. NumPy  \n3. Matplotlib  \n4. Scikit-learn  \n5. TensorFlow\n",
      "metadata": {}
    },
    {
      "id": "5749899b-4cc1-4213-b0ff-71522ff45f17",
      "cell_type": "markdown",
      "source": "| Data Science Tools |\n|---------------------|\n| Jupyter Notebook    |\n| RStudio             |\n| Apache Spark        |\n",
      "metadata": {}
    },
    {
      "id": "d16f0097-688c-44e1-ba0b-50a8df3236e9",
      "cell_type": "markdown",
      "source": "### Below are a few examples of evaluating arithmetic expressions in Python.\n",
      "metadata": {}
    },
    {
      "id": "16505b63-1ff5-4f82-a809-c7ec99366d6b",
      "cell_type": "code",
      "source": "# This is a simple arithmetic expression to multiply then add integers\n(3 * 4) + 5\n",
      "metadata": {
        "trusted": true
      },
      "outputs": [
        {
          "execution_count": 1,
          "output_type": "execute_result",
          "data": {
            "text/plain": "17"
          },
          "metadata": {}
        }
      ],
      "execution_count": 1
    },
    {
      "id": "76238d25-af74-4a92-92b7-0506c775e16c",
      "cell_type": "code",
      "source": "# This will convert 200 minutes to hours by dividing by 60\n200 / 60\n\n",
      "metadata": {
        "trusted": true
      },
      "outputs": [
        {
          "execution_count": 2,
          "output_type": "execute_result",
          "data": {
            "text/plain": "3.3333333333333335"
          },
          "metadata": {}
        }
      ],
      "execution_count": 2
    },
    {
      "id": "43043ba2-7e33-4dfe-923b-3f5c93fad3da",
      "cell_type": "markdown",
      "source": "**Objectives:**\n\n- List popular languages for Data Science  \n- Identify commonly used libraries for Data Science  \n- Create tables to represent Data Science tools  \n- Demonstrate arithmetic operations in Python  \n- Convert units using Python expressions\n",
      "metadata": {}
    },
    {
      "id": "8c1fa031-9a6a-45f4-a911-1c241450ff4f",
      "cell_type": "markdown",
      "source": "## Author\n\nSrija Polisett\n",
      "metadata": {}
    },
    {
      "id": "4881a341-3f36-448c-9327-ede3e216067c",
      "cell_type": "code",
      "source": "",
      "metadata": {
        "trusted": true
      },
      "outputs": [],
      "execution_count": null
    }
  ]
}